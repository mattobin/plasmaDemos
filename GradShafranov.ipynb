{
 "cells": [
  {
   "cell_type": "markdown",
   "id": "db1c80df-c19d-4fe8-b2d2-201d52d2f879",
   "metadata": {},
   "source": [
    "# The Grad Shafranov Equation\n",
    "\n",
    "Recall the plasma force balance that is used to describe z-pinch and theta-pinch equilbria:\n",
    "\\begin{equation}\n",
    "\\nabla p = \\vec{J}\\times\\vec{B}\n",
    "\\end{equation}\n",
    "When this equation is satisfied, the forces experienced by a particle due to collisions with other particles (the left-hand side of the equation) is balanced with the electromagnetic forces on the plasma due to currents and magnetic fields (the right-hand side of the equation). A plasma whose pressure ($p$), current density ($\\vec{J}$), and magnetic field ($\\vec{B}$) satisfy this equation is said to be in *equilibrium*.\n",
    "\n",
    "When we talked about z-pinches and theta-pinches, we set $\\vec{J}$ to be in some direction ($\\vec{z}$ for z-pinches, $\\vec{\\theta}$ for theta-pinches), and solve for the magnetic field and pressure. If we assume toroidal symmetry, that is, all quantities are constant in the $\\vec{\\theta}$-direction, we can solve the force balance equation to find an expression for equilibrium in a toroidal system. (Remember that tori are beneficial for confining plasma because of the hedgehog theorem). This equilibirum solution is called the \"Grad Shafranov equation\" (named after the people who worked it out):\n",
    "\\begin{equation}\n",
    "R\\frac{\\partial}{\\partial R}\\left(\\frac{1}{R}\\frac{\\partial\\Psi}{\\partial R}\\right) + \\frac{\\partial^2\\Psi}{\\partial Z^2} = -\\mu_0R^2\\frac{\\partial p}{\\partial\\Psi} - RB_{\\theta}\\frac{\\partial(RB_{\\theta})}{\\partial\\Psi}\n",
    "\\end{equation}\n",
    "\n",
    "Here, we have added the variable $\\Psi$ for convenience. we define $\\Psi$ such that its gradient is perpendicular to the magnetic field ($\\vec{B}$). This means that particles will tend to stay on surfaces that have the same $\\Psi$ value. Becuase we're concerned about how well plasma stays in tokamaks (and other devices confining toroidal plasmas), plots showing surfaces of constant $\\Psi$ can be used to understand how well plasma is confined in a given device.\n",
    "\n",
    "In this notebook, we'll look at solutions to the Grad Shafranov equation and how to interpret them.\n",
    "\n",
    "One solution to the Grad Shafranov equation is:\n",
    "\\begin{equation}\n",
    "\\Psi = -\\mu_0\\frac{\\partial p}{\\partial \\Psi}R^4/8 - \\frac{\\partial(RB_{\\theta})^2}{\\partial\\Psi}Z^2/4\n",
    "\\end{equation}\n",
    "\n",
    "Advanced question: Can you show this?\n",
    "\n",
    "Let's plot this expression for $\\Psi$ in the R-Z plane and see what it looks like.\n",
    "\n",
    "For convenience, we will set:\n",
    "\\begin{equation}\n",
    "c_1 = \\frac{\\partial p}{\\partial \\Psi}\n",
    "\\end{equation}\n",
    "\\begin{equation}\n",
    "c_2 = \\frac{1}{2}\\frac{\\partial (RB_{\\theta})^2}{\\partial Z}\n",
    "\\end{equation}"
   ]
  },
  {
   "cell_type": "code",
   "execution_count": null,
   "id": "52330250-da2b-4cba-8680-6fc89e280b6e",
   "metadata": {},
   "outputs": [],
   "source": [
    "# Imports the necessary tools we need\n",
    "import numpy as np\n",
    "import matplotlib.pyplot as plt\n",
    "import IPython\n",
    "%matplotlib widget"
   ]
  },
  {
   "cell_type": "code",
   "execution_count": null,
   "id": "f07f7fa8-6bf6-4976-bf75-7d81a49b791c",
   "metadata": {},
   "outputs": [],
   "source": [
    "# Defines the domain\n",
    "R = np.linspace(0, 2, 100)\n",
    "Z = np.linspace(-1, 1, 100)\n",
    "R, Z = np.meshgrid(R, Z)"
   ]
  },
  {
   "cell_type": "code",
   "execution_count": null,
   "id": "363bd1b8-08ca-4fc7-a4f9-59cfb7248181",
   "metadata": {},
   "outputs": [],
   "source": [
    "# mu0 is a constant of nature\n",
    "mu0 = 4 * np.pi * 10**-7\n",
    "\n",
    "# Note c1 and c2 are defined above; here we test out some values\n",
    "c_1 = 1e6\n",
    "c_2 = 1\n",
    "\n",
    "# This is the expression for Psi mentioed above\n",
    "PsiS = ((R**4) * -mu0 * c_1 / 8) - (c_2 * Z**2)\n",
    "\n",
    "# Let's plot Psi\n",
    "f1 = plt.figure(figsize=(4,4), dpi=100)\n",
    "f1.suptitle('$\\Psi_S$')\n",
    "ax = f1.add_subplot(111)\n",
    "ax.set_title(f'c_1 = {c_1}; c_2 = {c_2}')\n",
    "c = ax.contour(R, Z, PsiS, 20)\n",
    "plt.colorbar(c)\n",
    "ax.set_xlabel('R')\n",
    "ax.set_ylabel('Z')\n",
    "plt.show()"
   ]
  },
  {
   "cell_type": "markdown",
   "id": "14191f38-a8a6-487c-87e1-908ef3b86d6c",
   "metadata": {},
   "source": [
    "Try a few different values for $c_1$ and $c_2$ and see how $\\Psi_S$ changes as a result.\n",
    "\n",
    "Note that this $\\Psi_S$ only describes the effect of the plasma. We also need to take into account the effects of the magnets that we put around the plasma. We will define their $Psi$ as:\n",
    "\\begin{equation}\n",
    "\\Psi_V = c_3R^2\n",
    "\\end{equation}\n",
    "\n",
    "When add these two effects together ($\\Psi_S + \\Psi_V$), we can see the overall $\\Psi$."
   ]
  },
  {
   "cell_type": "code",
   "execution_count": null,
   "id": "299cb954-5142-4b1d-a087-b513beb0d9c0",
   "metadata": {},
   "outputs": [],
   "source": [
    "# Constant definitions\n",
    "c_1 = -1/mu0\n",
    "c_2 = -1\n",
    "c_3 = -1/2\n",
    "\n",
    "# Compute PsiV and PsiS\n",
    "PsiV = c_3 * R**2\n",
    "PsiS = ((R**4) * -mu0 * c_1 / 8) - (c_2 * Z**2)\n",
    "\n",
    "# Plot PsiV and PsiV + PsiS\n",
    "f2 = plt.figure(figsize=(9,5), dpi=100)\n",
    "ax = f2.add_subplot(121)\n",
    "c = ax.contour(R, Z, PsiV, 30)\n",
    "plt.colorbar(c)\n",
    "ax.set_xlabel('R')\n",
    "ax.set_ylabel('Z')\n",
    "ax.set_title('$\\Psi_V$')\n",
    "ax = f2.add_subplot(122)\n",
    "c = ax.contour(R, Z, PsiS + PsiV, 30)\n",
    "plt.colorbar(c)\n",
    "ax.set_title('$\\Psi_S + \\Psi_V$')\n",
    "ax.set_xlabel('R')\n",
    "ax.set_ylabel('Z')\n",
    "plt.tight_layout()\n",
    "plt.show()"
   ]
  },
  {
   "cell_type": "markdown",
   "id": "7a5caa80-d754-466f-ae4b-2198de0ba9d6",
   "metadata": {},
   "source": [
    "Notice that whereas before, the flux surfaces were 'open', we now have 'closed' flux surfaces (the darker contours), meaning that plasma will stay confined in this region, just as we want!\n",
    "\n",
    "Now let's see how adding more magnetic field coils changes the shape of the flux surfaces, allowing us to make different shaped tokamaks.\n",
    "\n",
    "The R0s vector defines the R-coordinates of the coils. The Z0s vector defines the Z-coordinates of the coils. The cs vector defines how much current is run through each coil, which determines how strong its magnetic field is. Red x's in the plot indicate where coils are placed"
   ]
  },
  {
   "cell_type": "code",
   "execution_count": null,
   "id": "189a7fc7-bf74-491f-91e8-be8b76c8bb2b",
   "metadata": {},
   "outputs": [],
   "source": [
    "# Q1e\n",
    "R0s = [    0,    0,     0,    0,     0,  1.75,   1.75,   2.0,   2.0,   2.0,   2.0,   0.5,  0.5] \n",
    "Z0s = [    0, 0.75, -0.75, 0.25, -0.25,   1.0,   -1.0,  0.25, -0.25,  0.75, -0.75, -1.15, 1.15]\n",
    "cs =  [-0.05, -0.2,  -0.2, -0.1,  -0.1, -0.15,  -0.15, -0.10, -0.10, -0.10, -0.10,   0.5,  0.5] \n",
    "\n",
    "Psi = np.sum(np.dstack([PsiS, PsiV] + [c * 0.5 * np.log((R - R0)**2 + (Z - Z0)**2) for c, R0, Z0 in zip(cs, R0s, Z0s)]), axis=-1)\n",
    "\n",
    "f1 = plt.figure()\n",
    "ax = f1.add_subplot(111)\n",
    "c = ax.contour(R, Z, Psi, 30)\n",
    "xlims = ax.get_xlim()\n",
    "ylims = ax.get_ylim()\n",
    "ax.scatter(R0s, Z0s, c='r', marker='x', s=50, zorder=5)\n",
    "ax.set_xlim(xlims)\n",
    "ax.set_ylim(ylims)\n",
    "plt.colorbar(c)\n",
    "ax.set_xlabel('R')\n",
    "ax.set_ylabel('Z')\n",
    "\n",
    "plt.show()"
   ]
  },
  {
   "cell_type": "code",
   "execution_count": null,
   "id": "c068b2ed-df3b-4ffd-a273-2f9fff9381f3",
   "metadata": {},
   "outputs": [],
   "source": []
  },
  {
   "cell_type": "code",
   "execution_count": null,
   "id": "8087c286-92c5-4a7c-87ee-0eb158e1ff1a",
   "metadata": {},
   "outputs": [],
   "source": []
  }
 ],
 "metadata": {
  "kernelspec": {
   "display_name": "Python 3 (ipykernel)",
   "language": "python",
   "name": "python3"
  },
  "language_info": {
   "codemirror_mode": {
    "name": "ipython",
    "version": 3
   },
   "file_extension": ".py",
   "mimetype": "text/x-python",
   "name": "python",
   "nbconvert_exporter": "python",
   "pygments_lexer": "ipython3",
   "version": "3.8.17"
  }
 },
 "nbformat": 4,
 "nbformat_minor": 5
}

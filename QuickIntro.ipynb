{
 "cells": [
  {
   "cell_type": "markdown",
   "id": "5511dd54-17d3-4dcb-9789-59d5e754a040",
   "metadata": {},
   "source": [
    "# A Quick Introduction to Python\n",
    "This tutorial offers a brief introduction to Python and some common tools/operations used in this repository. For our purposes, your computer is like a big graphing calculator that can solve complicated equations quickly. Python is our way of inputting information to the computer (like telling it what to compute) and getting information from the computer (in terms of numbers and graphs).\n",
    "\n",
    "Note that anything after a \"#\" in a line will be ignored by Python. We can use this to make comments about our code within the code itself."
   ]
  },
  {
   "cell_type": "code",
   "execution_count": null,
   "id": "7f723094-ba1d-427b-aa84-e90abc0bbc80",
   "metadata": {},
   "outputs": [],
   "source": [
    "# Imports\n",
    "import numpy as np\n",
    "import matplotlib.pyplot as plt"
   ]
  },
  {
   "cell_type": "code",
   "execution_count": null,
   "id": "3a793484-6beb-415d-9946-7279d2c0b1b2",
   "metadata": {},
   "outputs": [],
   "source": [
    "# Printing"
   ]
  },
  {
   "cell_type": "code",
   "execution_count": null,
   "id": "8766fb45-7df0-40cf-a580-564de20b7580",
   "metadata": {},
   "outputs": [],
   "source": [
    "# Assigning variables: scalars, vectors, matrices, strings"
   ]
  },
  {
   "cell_type": "code",
   "execution_count": null,
   "id": "62b0867f-7e65-441f-a364-32048cef420b",
   "metadata": {},
   "outputs": [],
   "source": [
    "# Doing math with variables: adding, multiplying "
   ]
  },
  {
   "cell_type": "code",
   "execution_count": null,
   "id": "ee516427-8506-4f93-a658-2469171b9e26",
   "metadata": {},
   "outputs": [],
   "source": [
    "# Making a function"
   ]
  },
  {
   "cell_type": "code",
   "execution_count": null,
   "id": "491f39c9-4431-4126-8283-a4c572fa193d",
   "metadata": {},
   "outputs": [],
   "source": [
    "# Plotting"
   ]
  },
  {
   "cell_type": "code",
   "execution_count": null,
   "id": "7eb63506-8464-475e-94ec-dde7dc7c7605",
   "metadata": {},
   "outputs": [],
   "source": [
    "# Continuous vs discrete math"
   ]
  }
 ],
 "metadata": {
  "kernelspec": {
   "display_name": "Python 3 (ipykernel)",
   "language": "python",
   "name": "python3"
  },
  "language_info": {
   "codemirror_mode": {
    "name": "ipython",
    "version": 3
   },
   "file_extension": ".py",
   "mimetype": "text/x-python",
   "name": "python",
   "nbconvert_exporter": "python",
   "pygments_lexer": "ipython3",
   "version": "3.8.17"
  }
 },
 "nbformat": 4,
 "nbformat_minor": 5
}

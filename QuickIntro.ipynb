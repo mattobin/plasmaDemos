{
 "cells": [
  {
   "cell_type": "markdown",
   "id": "5511dd54-17d3-4dcb-9789-59d5e754a040",
   "metadata": {},
   "source": [
    "# A Quick Introduction to Python\n",
    "This tutorial offers a brief introduction to Python and some common tools/operations used in this repository. For our purposes, your computer is like a big graphing calculator that can solve complicated equations quickly. Python is our way of inputting information to the computer (like telling it what to compute) and getting information from the computer (in terms of numbers and graphs).\n",
    "\n",
    "Note that anything after a \"#\" in a line will be ignored by Python. We can use this to make comments about our code within the code itself. Adding a \"#\" in front of a line is often called \"commenting out\" that line. Removing a \"#\" in front of a line is called \"uncommenting\".\n",
    "\n",
    "We start by importing some \"modules\" or \"libraries\" that contain useful tools that we'll utilize later in this code. We'll explain how to use those tools more down below."
   ]
  },
  {
   "cell_type": "code",
   "execution_count": null,
   "id": "7f723094-ba1d-427b-aa84-e90abc0bbc80",
   "metadata": {},
   "outputs": [],
   "source": [
    "# Imports\n",
    "import numpy as np\n",
    "import matplotlib.pyplot as plt"
   ]
  },
  {
   "cell_type": "code",
   "execution_count": null,
   "id": "3a793484-6beb-415d-9946-7279d2c0b1b2",
   "metadata": {},
   "outputs": [],
   "source": [
    "# Printing\n",
    "# Un-comment the line below\n",
    "# print('Hello world!')\n",
    "\n",
    "# Print something else below"
   ]
  },
  {
   "cell_type": "markdown",
   "id": "3f4178ec-3efb-460e-bf78-5f0bbc4279d8",
   "metadata": {},
   "source": [
    "Here, \"print\" is a **function** built into Python. A function in Python, like a function in math, takes some input(s) and does something with that input. Inputs are specified in parentheses after the function name (like they are in math). In this case, the \"print\" function takes an input and prints its value to the screen."
   ]
  },
  {
   "cell_type": "code",
   "execution_count": null,
   "id": "b3ffb687-6c18-4142-9bd2-17ecfab23131",
   "metadata": {},
   "outputs": [],
   "source": [
    "# Assigning variables: scalars, lists, strings\n",
    "# Set the variables \"a\" and \"b\" to be numbers\n",
    "\n",
    "\n",
    "# Set the variable \"c\" to be a 3-element list of numbers\n",
    "\n",
    "\n",
    "# Set the variable \"d\" to be a word of your choice\n",
    "\n",
    "\n",
    "# Print all of your variables to the screen to make sure you get what you expect"
   ]
  },
  {
   "cell_type": "markdown",
   "id": "94aeff66-71ed-4d0f-a06a-46149151a9db",
   "metadata": {},
   "source": [
    "We use vectors and matrices a lot, especially when solving physics problems. The Python module \"numpy\" (imported in the first cell) is used for turning lists of numbers into **arrays**, that is, vectors and matrices. Numpy also contains functions to define vectors and matrices without using lists, and many other functions useful for doing math in Python.\n",
    "\n",
    "We call functions from modules that we imported using \".\". For example, np.sqrt is the square root function built into numpy. Note that in the first cell we imported numpy \"as\" np. This means that when you type \"np\" Python will know you're referring to the numpy library of functions, and will look in this library for the function name specified after \".\"."
   ]
  },
  {
   "cell_type": "code",
   "execution_count": null,
   "id": "150bb0d8-f739-4b6e-a0b8-d485289f2302",
   "metadata": {},
   "outputs": [],
   "source": [
    "# Assigning variables: vectors and matrices\n",
    "# Using numpy, turn \"c\" into a vector\n",
    "\n",
    "\n",
    "# Set the variable \"e\" to be a 3x3 matrix consisting of only 1's\n",
    "\n",
    "\n",
    "# Use the \"ones\" function in numpy to do this faster\n",
    "\n"
   ]
  },
  {
   "cell_type": "markdown",
   "id": "64c6afe5-acc4-4351-adce-a5af575f3944",
   "metadata": {},
   "source": [
    "The main reason we use computers for solving physics problems is because they're so much faster at doing math than humans are. Here are some examples of simple math operations."
   ]
  },
  {
   "cell_type": "code",
   "execution_count": 2,
   "id": "62b0867f-7e65-441f-a364-32048cef420b",
   "metadata": {},
   "outputs": [],
   "source": [
    "# Doing math with variables: adding, multiplying \n",
    "# Add your variables \"a\" and \"b\" using \"+\", then print the result. Is this what you expect?\n",
    "\n",
    "\n",
    "# Multiply your variables \"a\" and \"b\" using \"*\", then check the result using \"print\"\n",
    "\n",
    "\n",
    "# Add your variable \"a\" to your vector \"c\" using \"+\". Check the result using \"print\".\n",
    "# Note how python handles adding these two different types\n",
    "\n",
    "\n",
    "# Multiply your matrix \"e\" by your variable \"a\" using \"*\". Check your result.\n",
    "\n"
   ]
  },
  {
   "cell_type": "markdown",
   "id": "828e002c-3858-4e62-98b0-cd0667d9a29a",
   "metadata": {},
   "source": [
    "Numpy is capable of doing much more complicated math that Python alone is. Let's take a look at how to do matrix and vector math using numpy."
   ]
  },
  {
   "cell_type": "code",
   "execution_count": null,
   "id": "6fdb7481-e49e-4881-bbf6-4efd9059a800",
   "metadata": {},
   "outputs": [],
   "source": [
    "# When used between two vectors, \"*\" returns the dot product.\n",
    "# Check this by taking the dot product of \"c\" with itself\n",
    "\n",
    "\n",
    "# Use the \"cross\" function in numpy to take the cross product of \"c\" with itself\"\n",
    "\n",
    "\n",
    "# Use the \"cross\" function to take the cross product of \"c\" with another 3-element vector\n",
    "\n",
    "\n",
    "# What happens when you try to take the cross product of two vectors of different sizes?\n",
    "\n",
    "\n",
    "# Use the \"matmul\" function in numpy to take the matrix product of \"e\" with \"c\"\n",
    "\n",
    "\n",
    "# What happens if you try to matrix multiply a matrix and a vector with incompatible numbers of elements?"
   ]
  },
  {
   "cell_type": "markdown",
   "id": "bdc802db-548b-424b-8a46-2176d0ac291d",
   "metadata": {},
   "source": [
    "We use the library \"matplotlib\" to plot things. Notice we imported this as \"plt\""
   ]
  },
  {
   "cell_type": "code",
   "execution_count": null,
   "id": "491f39c9-4431-4126-8283-a4c572fa193d",
   "metadata": {},
   "outputs": [],
   "source": [
    "# Plotting\n",
    "# Define a vector of 5 x-values and 5 y-values and make a scatter plot using these coordinates"
   ]
  },
  {
   "cell_type": "markdown",
   "id": "f7f679ea-9f70-4285-8bd3-6009ff09ff1f",
   "metadata": {},
   "source": [
    "More things to try:\n",
    "- Make a line plot\n",
    "- Use the \"imshow\" function in matplotlib to display your matrix \"e\""
   ]
  },
  {
   "cell_type": "code",
   "execution_count": null,
   "id": "8f7e63cc-38d3-4359-be06-7afa85759829",
   "metadata": {},
   "outputs": [],
   "source": []
  }
 ],
 "metadata": {
  "kernelspec": {
   "display_name": "Python 3 (ipykernel)",
   "language": "python",
   "name": "python3"
  },
  "language_info": {
   "codemirror_mode": {
    "name": "ipython",
    "version": 3
   },
   "file_extension": ".py",
   "mimetype": "text/x-python",
   "name": "python",
   "nbconvert_exporter": "python",
   "pygments_lexer": "ipython3",
   "version": "3.8.17"
  }
 },
 "nbformat": 4,
 "nbformat_minor": 5
}

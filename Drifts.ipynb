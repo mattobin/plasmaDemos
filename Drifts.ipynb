{
 "cells": [
  {
   "cell_type": "markdown",
   "id": "b4946c25-70a7-44a1-b578-efa145cb0c65",
   "metadata": {},
   "source": [
    "# Particle-in-cell Simulation\n",
    "This notebook serves as an introduction to a basic particle-in-cell code, simulating particle dynamics. One goal of this notebook is to demonstrate the common drifts experienced in plasmas ($\\vec{E}\\times\\vec{B}$, $\\nabla\\vec{B}$, $\\vec{F}\\times\\vec{B}$).\n",
    "\n",
    "First, walk through the notebook cell-by-cell to understand how it works, then try the exercises at the end of this notebook."
   ]
  },
  {
   "cell_type": "code",
   "execution_count": null,
   "id": "ea7a8410-ff6a-4f4d-ae10-fc252f6f1750",
   "metadata": {},
   "outputs": [],
   "source": [
    "import numpy as np\n",
    "na = np.newaxis\n",
    "import matplotlib.pyplot as plt\n",
    "import matplotlib.animation\n",
    "plt.rcParams[\"animation.html\"] = \"jshtml\"\n",
    "plt.rcParams['figure.dpi'] = 150  \n",
    "plt.ioff()\n",
    "%matplotlib widget"
   ]
  },
  {
   "cell_type": "code",
   "execution_count": null,
   "id": "89a3f6ff-4b87-4f9a-985b-71a6dab9259e",
   "metadata": {},
   "outputs": [],
   "source": [
    "# Set the constants in this simulation: mu0, particle mass, particle charge\n",
    "mu0 = 4 * np.pi * 10**-7\n",
    "mi = 1 # Proton mass, in proton masses\n",
    "qi = 1 # Proton charge, in proton charges"
   ]
  },
  {
   "cell_type": "code",
   "execution_count": null,
   "id": "73d490d0-259b-4bf8-baef-9b00e629bb17",
   "metadata": {},
   "outputs": [],
   "source": [
    "# Simulation domain\n",
    "X, Y = np.meshgrid(np.linspace(-10, 10, 100),\n",
    "                   np.linspace(-10, 10, 100))"
   ]
  },
  {
   "cell_type": "code",
   "execution_count": null,
   "id": "911946ea-be8f-4fb7-88de-a7287edef286",
   "metadata": {},
   "outputs": [],
   "source": [
    "# Define fields\n",
    "# Electric potential\n",
    "def V(x, y, z):\n",
    "    return 0\n",
    "\n",
    "# Magnetic field\n",
    "def B(x, y, z):\n",
    "    return np.array([0, 0, 0])[na, :]\n",
    "\n",
    "# Gravitational potential\n",
    "def Vg(x, y, z):\n",
    "    return 0\n",
    "\n",
    "# DO NOT CHANGE DEFINITION OF E (based on V)\n",
    "def E(x, y, z, ε=0.01):\n",
    "    return np.array([V(x + ε, y, z) - V(x - ε, y, z),\n",
    "                     V(x, y + ε, z) - V(x, y - ε, z),\n",
    "                     V(x, y, z + ε) - V(x, y, z - ε)]) / 2 / ε\n",
    "\n",
    "# DO NOT CHANGE DEFINITION OF G (based on Vg)\n",
    "def G(x, y, z, ε=0.01):\n",
    "    return np.array([Vg(x + ε, y, z) - Vg(x - ε, y, z),\n",
    "                     Vg(x, y + ε, z) - Vg(x, y - ε, z),\n",
    "                     Vg(x, y, z + ε) - Vg(x, y, z - ε)]) / 2 / ε"
   ]
  },
  {
   "cell_type": "code",
   "execution_count": null,
   "id": "e3fa30ae-7865-4968-969b-d74a3eec4a4e",
   "metadata": {},
   "outputs": [],
   "source": [
    "# Initial conditions in three coordinates: x, y, z\n",
    "r0 = np.array([0, 0, 0])\n",
    "v0 = np.array([0, 0, 0])"
   ]
  },
  {
   "cell_type": "code",
   "execution_count": null,
   "id": "eef0d6ef-ed02-4ada-8a89-ce32e06b7a64",
   "metadata": {},
   "outputs": [],
   "source": [
    "# Compute initial energy (kinetic + electric potential + gravitational potential)\n",
    "Energy0 = np.maximum(1e-10, np.sum(mi * v0**2 / 2) + (qi * V(*r0)) + (mi * Vg(*r0)))"
   ]
  },
  {
   "cell_type": "code",
   "execution_count": null,
   "id": "16129d88-35fe-4db3-bae9-80dda6811617",
   "metadata": {},
   "outputs": [],
   "source": [
    "# Define simulation settings\n",
    "iterations = 100\n",
    "tau = 0.001"
   ]
  },
  {
   "cell_type": "code",
   "execution_count": null,
   "id": "b1955025-0a52-4925-a2a5-2b7b77850745",
   "metadata": {},
   "outputs": [],
   "source": [
    "# Simulate all time points iteratively\n",
    "r = np.vstack((r0,\n",
    "               np.zeros((iterations, 3))))\n",
    "v = np.vstack((v0,\n",
    "               np.zeros((iterations, 3))))\n",
    "a = np.zeros((1, 3))\n",
    "\n",
    "for i in range(1, iterations + 1):\n",
    "    \n",
    "    # Calculate force\n",
    "    F = (qi * (np.cross(v[i - 1], B(*r[i - 1])) + E(*r[i - 1]))) + (G(*r[i - 1]) * mi)\n",
    "\n",
    "    # Calculate acceleration\n",
    "    a = F / mi\n",
    "    \n",
    "    # Advance position\n",
    "    r[i] = r[i - 1] + (tau * v[i - 1]) + (a * tau**2 / 2)\n",
    "\n",
    "    # Advance velocity\n",
    "    v[i] = v[i - 1] + (a * tau / 2)\n",
    "\n",
    "    # Enforce conservation of energy\n",
    "    v[i] /= np.maximum(1e-10, np.sqrt((np.sum(mi * v[i]**2 / 2) + (qi * V(*r[i])) + (mi * Vg(*r[i]))) / Energy0))\n"
   ]
  },
  {
   "cell_type": "code",
   "execution_count": null,
   "id": "57a2bfdc-f658-4d6f-bc4e-c53461f4071a",
   "metadata": {},
   "outputs": [],
   "source": [
    "# Replay simulation\n",
    "fig, ax = plt.subplots()\n",
    "\n",
    "def animate(ti):\n",
    "    plt.cla()\n",
    "    plt.scatter(*r[ti][:2])\n",
    "    plt.plot(r[np.maximum(0, ti - 10):ti, 0],\n",
    "             r[np.maximum(0, ti - 10):ti, 1])\n",
    "    plt.xlim(np.min(X) - 1, np.max(X) + 1)\n",
    "    plt.ylim(np.min(Y) - 1, np.max(Y) + 1)\n",
    "    plt.grid(True)\n",
    "\n",
    "matplotlib.animation.FuncAnimation(fig, animate, frames=iterations)"
   ]
  },
  {
   "cell_type": "markdown",
   "id": "4273ca9d-28bb-4c37-b912-20a9e14fb383",
   "metadata": {},
   "source": [
    "Now that you see how this simulation is set up, try simulating different scenarios:\n",
    "- Add an initial velocity to your particle\n",
    "- Add a uniform magnetic field\n",
    "- Remove the magnetic field and add a uniform electric potential\n",
    "- Remove the electric potential and add a uniform gravitational potential\n",
    "- Add more than one of the above together\n",
    "- Add a non-uniform electric or magnetic field\n",
    "- Can you recreate $\\vec{E}\\times\\vec{B}$ drift?\n",
    "- Can you recreate $\\nabla \\vec{B}$ drift?\n",
    "- What happens when you change the mass or the charge of your particle?\n",
    "- What happens when you change the simulation timestep (tau)?\n",
    "- Challenge: try adding another particle and simulating both together\n",
    "- Advanced challenge: simulate two particles along with the electric fields they produce\n",
    "- Advanced challenge: simulate two particles along with the electric and magnetic fields they produce"
   ]
  },
  {
   "cell_type": "code",
   "execution_count": null,
   "id": "6db5b26d-54fb-4b3d-ac39-17c745ec484b",
   "metadata": {},
   "outputs": [],
   "source": []
  }
 ],
 "metadata": {
  "kernelspec": {
   "display_name": "Python 3 (ipykernel)",
   "language": "python",
   "name": "python3"
  },
  "language_info": {
   "codemirror_mode": {
    "name": "ipython",
    "version": 3
   },
   "file_extension": ".py",
   "mimetype": "text/x-python",
   "name": "python",
   "nbconvert_exporter": "python",
   "pygments_lexer": "ipython3",
   "version": "3.8.17"
  }
 },
 "nbformat": 4,
 "nbformat_minor": 5
}
